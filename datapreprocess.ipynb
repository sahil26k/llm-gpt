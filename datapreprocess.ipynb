{
 "cells": [
  {
   "cell_type": "code",
   "execution_count": 3,
   "id": "fd055cd0-4d7b-4537-a948-9ba6e50cf61f",
   "metadata": {},
   "outputs": [
    {
     "name": "stdout",
     "output_type": "stream",
     "text": [
      "Starting preprocessing...\n"
     ]
    },
    {
     "name": "stderr",
     "output_type": "stream",
     "text": [
      "Processing vocabulary: 100%|████████████████████████████████████████████████| 4822/4822 [00:00<00:00, 322695.40lines/s]\n",
      "Writing vocabulary: 100%|████████████████████████████████████████████████████████| 94/94 [00:00<00:00, 94074.11chars/s]"
     ]
    },
    {
     "name": "stdout",
     "output_type": "stream",
     "text": [
      "\n",
      "Preprocessing completed!\n",
      "Cleaned vocabulary saved to vocab_cleaned.txt\n"
     ]
    },
    {
     "name": "stderr",
     "output_type": "stream",
     "text": [
      "\n"
     ]
    }
   ],
   "source": [
    "import re\n",
    "from tqdm import tqdm\n",
    "\n",
    "\n",
    "def preprocess_vocab(input_vocab_file, output_vocab_file):\n",
    "    cleaned_vocab = set()\n",
    "\n",
    "    # Count total lines first\n",
    "    with open(input_vocab_file, \"r\", encoding=\"utf-8\") as vfile:\n",
    "        total_lines = sum(1 for _ in vfile)\n",
    "\n",
    "    # Read with progress bar\n",
    "    with open(input_vocab_file, \"r\", encoding=\"utf-8\") as vfile:\n",
    "        for line in tqdm(vfile, total=total_lines, desc=f\"Processing vocabulary\", unit=\"lines\"):\n",
    "            char = line.strip()\n",
    "            char = re.sub(r'[^\\x00-\\x7F]+', '', char)\n",
    "            if char:\n",
    "                cleaned_vocab.add(char)\n",
    "\n",
    "    # Write with progress bar\n",
    "    with open(output_vocab_file, \"w\", encoding=\"utf-8\") as vfile:\n",
    "        for char in tqdm(cleaned_vocab, desc=\"Writing vocabulary\", unit=\"chars\"):\n",
    "            vfile.write(char + '\\n')\n",
    "# File paths for your existing dataset\n",
    "vocab_file = \"vocab_wiki.txt\"\n",
    "\n",
    "\n",
    "print(\"Starting preprocessing...\")\n",
    "\n",
    "# Preprocess files with progress bars\n",
    "preprocess_vocab(vocab_file, \"vocab_wiki_cleaned.txt\")\n",
    "\n",
    "\n",
    "print(\"\\nPreprocessing completed!\")\n",
    "print(f\"Cleaned vocabulary saved to vocab_cleaned.txt\")\n",
    "\n"
   ]
  },
  {
   "cell_type": "code",
   "execution_count": 4,
   "id": "26778acc-9be5-4580-a8fb-38a8e01b6f24",
   "metadata": {},
   "outputs": [
    {
     "name": "stdout",
     "output_type": "stream",
     "text": [
      "Starting preprocessing...\n"
     ]
    },
    {
     "name": "stderr",
     "output_type": "stream",
     "text": [
      "Processing val_wiki.txt: 100%|█████████████████████████████████████████████| 71731/71731 [00:04<00:00, 15664.86lines/s]\n",
      "Processing train_wiki.txt: 100%|█████████████████████████████████████████| 645578/645578 [00:35<00:00, 18127.06lines/s]"
     ]
    },
    {
     "name": "stdout",
     "output_type": "stream",
     "text": [
      "\n",
      "Preprocessing completed!\n",
      "Cleaned validation data saved to val_split_cleaned.txt\n",
      "Cleaned training data saved to train_split_cleaned.txt\n"
     ]
    },
    {
     "name": "stderr",
     "output_type": "stream",
     "text": [
      "\n"
     ]
    }
   ],
   "source": [
    "import re\n",
    "from tqdm import tqdm\n",
    "\n",
    "\n",
    "\n",
    "def preprocess_text_file(input_file, output_file):\n",
    "    # Count total lines first\n",
    "    with open(input_file, \"r\", encoding=\"utf-8\") as infile:\n",
    "        total_lines = sum(1 for _ in infile)\n",
    "\n",
    "    with open(input_file, \"r\", encoding=\"utf-8\") as infile, open(output_file, \"w\", encoding=\"utf-8\") as outfile:\n",
    "        # Add progress bar\n",
    "        for line in tqdm(infile, total=total_lines, desc=f\"Processing {input_file}\", unit=\"lines\"):\n",
    "            cleaned_line = re.sub(r'[^\\x00-\\x7F]+', '', line)\n",
    "            cleaned_line = re.sub(r'[^a-zA-Z0-9\\s.,;:!?\\'\"()’]+', '', cleaned_line)\n",
    "            outfile.write(cleaned_line + '\\n')\n",
    "\n",
    "\n",
    "output_file_val = \"val_wiki.txt\"\n",
    "output_file_train = \"train_wiki.txt\"\n",
    "\n",
    "\n",
    "print(\"Starting preprocessing...\")\n",
    "\n",
    "preprocess_text_file(output_file_val, \"val_wiki_cleaned.txt\")\n",
    "preprocess_text_file(output_file_train, \"train_wiki_cleaned.txt\")\n",
    "\n",
    "print(\"\\nPreprocessing completed!\")\n",
    "print(f\"Cleaned validation data saved to val_split_cleaned.txt\")\n",
    "\n",
    "print(f\"Cleaned training data saved to train_split_cleaned.txt\")\n"
   ]
  },
  {
   "cell_type": "code",
   "execution_count": null,
   "id": "312e66e1-a664-44ac-aa52-7db546cb3db9",
   "metadata": {},
   "outputs": [],
   "source": []
  }
 ],
 "metadata": {
  "kernelspec": {
   "display_name": "cuda-gpt",
   "language": "python",
   "name": "cuda"
  },
  "language_info": {
   "codemirror_mode": {
    "name": "ipython",
    "version": 3
   },
   "file_extension": ".py",
   "mimetype": "text/x-python",
   "name": "python",
   "nbconvert_exporter": "python",
   "pygments_lexer": "ipython3",
   "version": "3.12.6"
  },
  "widgets": {
   "application/vnd.jupyter.widget-state+json": {
    "state": {},
    "version_major": 2,
    "version_minor": 0
   }
  }
 },
 "nbformat": 4,
 "nbformat_minor": 5
}
