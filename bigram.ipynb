{
 "cells": [
  {
   "cell_type": "code",
   "execution_count": 1,
   "id": "79b2a331-d057-4e9f-b2e3-66b030466645",
   "metadata": {},
   "outputs": [
    {
     "name": "stdout",
     "output_type": "stream",
     "text": [
      "cuda\n"
     ]
    }
   ],
   "source": [
    "import torch\n",
    "import torch.nn as nn\n",
    "from torch.nn import functional as F\n",
    "device = 'cuda' if torch.cuda.is_available() else 'cpu'\n",
    "print(device)\n",
    "block_size = 8\n",
    "batch_size = 4\n",
    "max_iters = 1000\n",
    "learning_rate = 3e-4\n",
    "eval_iters= 250"
   ]
  },
  {
   "cell_type": "code",
   "execution_count": 2,
   "id": "1f5b8bd8-540b-4985-8ddf-10f1f88bcea3",
   "metadata": {},
   "outputs": [
    {
     "name": "stdout",
     "output_type": "stream",
     "text": [
      "Number of available GPUs: 1\n",
      "GPU 0: NVIDIA GeForce RTX 4060 Laptop GPU\n"
     ]
    }
   ],
   "source": [
    "if torch.cuda.is_available():\n",
    "    num_gpus = torch.cuda.device_count()\n",
    "    print(f\"Number of available GPUs: {num_gpus}\")\n",
    "    for i in range(num_gpus):\n",
    "        print(f\"GPU {i}: {torch.cuda.get_device_name(i)}\")\n",
    "else:\n",
    "    print(\"CUDA is not available.\")"
   ]
  },
  {
   "cell_type": "code",
   "execution_count": 3,
   "id": "564a7e14-4ee7-4001-a1c7-450089b0ef71",
   "metadata": {},
   "outputs": [
    {
     "name": "stdout",
     "output_type": "stream",
     "text": [
      "['\\n', ' ', '!', '\"', '&', \"'\", '(', ')', '*', ',', '-', '.', '0', '1', '2', '3', '4', '5', '6', '7', '8', '9', ':', ';', '?', 'A', 'B', 'C', 'D', 'E', 'F', 'G', 'H', 'I', 'J', 'K', 'L', 'M', 'N', 'O', 'P', 'Q', 'R', 'S', 'T', 'U', 'V', 'W', 'X', 'Y', 'Z', '[', ']', '_', 'a', 'b', 'c', 'd', 'e', 'f', 'g', 'h', 'i', 'j', 'k', 'l', 'm', 'n', 'o', 'p', 'q', 'r', 's', 't', 'u', 'v', 'w', 'x', 'y', 'z', '\\ufeff']\n"
     ]
    }
   ],
   "source": [
    "with open('wiz_of_oz.txt', 'r', encoding='utf-8') as f:\n",
    "    text = f.read()\n",
    "chars = sorted(set(text))\n",
    "print(chars)\n",
    "vocab_size = (len(chars))\n"
   ]
  },
  {
   "cell_type": "code",
   "execution_count": 4,
   "id": "3b3d6246-c6ef-4090-a1be-874b2eeb85c3",
   "metadata": {},
   "outputs": [
    {
     "name": "stdout",
     "output_type": "stream",
     "text": [
      "tensor([80,  1,  1, 28, 39, 42, 39, 44, 32, 49,  1, 25, 38, 28,  1, 44, 32, 29,\n",
      "         1, 47, 33, 50, 25, 42, 28,  1, 33, 38,  1, 39, 50,  0,  0,  1,  1, 26,\n",
      "        49,  0,  0,  1,  1, 36, 11,  1, 30, 42, 25, 38, 35,  1, 26, 25, 45, 37,\n",
      "         0,  0,  1,  1, 25, 45, 44, 32, 39, 42,  1, 39, 30,  1, 44, 32, 29,  1,\n",
      "        47, 33, 50, 25, 42, 28,  1, 39, 30,  1, 39, 50,  9,  1, 44, 32, 29,  1,\n",
      "        36, 25, 38, 28,  1, 39, 30,  1, 39, 50,  9,  1, 39, 50, 37, 25,  1, 39,\n",
      "        30,  1, 39, 50,  9,  1, 29, 44, 27, 11,  0,  0,  1,  1, 33, 36, 36, 45,\n",
      "        43, 44, 42, 25, 44, 29, 28,  1, 26, 49,  1, 34, 39, 32, 38,  1, 42, 11,\n",
      "         1, 38, 29, 33, 36, 36,  0,  0,  1,  1, 26, 39, 39, 35, 43,  1, 39, 30,\n",
      "         1, 47, 39, 38, 28, 29, 42,  1, 47, 33, 36, 36, 33, 25, 37,  1, 37, 39,\n",
      "        42, 42, 39, 47,  1,  4,  1, 27, 39, 11,  9,  1, 33, 38, 27, 11,  1, 38,\n",
      "        29, 47])\n"
     ]
    }
   ],
   "source": [
    "string_to_int = {ch:i for i,ch in enumerate(chars)}\n",
    "int_to_string = {i:ch for i,ch in enumerate(chars)}\n",
    "\n",
    "encode = lambda s: [string_to_int[c] for c in s]\n",
    "decode = lambda l: ''.join([int_to_string[i] for i in l])\n",
    "\n",
    "data = torch.tensor(encode(text), dtype=torch.long)\n",
    "print(data[:200])"
   ]
  },
  {
   "cell_type": "code",
   "execution_count": 5,
   "id": "0c52b9ff-f4ff-45c0-9573-99cc3491da15",
   "metadata": {},
   "outputs": [
    {
     "name": "stdout",
     "output_type": "stream",
     "text": [
      "inputs:\n",
      "tensor([[73, 68,  1, 58, 54, 73,  1, 78],\n",
      "        [72,  1, 76, 62, 73, 61,  1, 61],\n",
      "        [74, 73,  1, 28, 68, 71, 68, 73],\n",
      "        [67, 73, 58, 57,  1, 78, 68, 74]], device='cuda:0')\n",
      "targets:\n",
      "tensor([[68,  1, 58, 54, 73,  1, 78, 68],\n",
      "        [ 1, 76, 62, 73, 61,  1, 61, 62],\n",
      "        [73,  1, 28, 68, 71, 68, 73, 61],\n",
      "        [73, 58, 57,  1, 78, 68, 74,  9]], device='cuda:0')\n"
     ]
    }
   ],
   "source": [
    "n = int(0.8*len(data))\n",
    "train_data = data[:n]\n",
    "val_data = data[n:]\n",
    "\n",
    "def get_batch(split):\n",
    "    data = train_data if split == 'train' else val_data\n",
    "    ix = torch.randint(len(data) - block_size, (batch_size,))\n",
    "    x= torch.stack([data[i:i+block_size]for i in ix])\n",
    "    y= torch.stack([data[i+1:i+block_size+1]for i in ix])\n",
    "    x,y= x.to(device), y.to(device)\n",
    "    return x,y\n",
    "\n",
    "x, y = get_batch('train')\n",
    "print('inputs:')\n",
    "print(x)\n",
    "print('targets:')\n",
    "print(y)"
   ]
  },
  {
   "cell_type": "code",
   "execution_count": 6,
   "id": "8bf6a16a-675b-4232-9421-8bb39cb4ffb1",
   "metadata": {},
   "outputs": [],
   "source": [
    "@torch.no_grad()\n",
    "def estimate_loss():\n",
    "    out={}\n",
    "    model.eval()\n",
    "    for split in ['train', 'val']:\n",
    "        losses = torch.zeros(eval_iters)\n",
    "        for k in range(eval_iters):\n",
    "            X, Y = get_batch(split)\n",
    "            logits, loss = model(X,Y)\n",
    "            losses[k]= loss.item()\n",
    "        out[split] =losses.mean()\n",
    "    return out"
   ]
  },
  {
   "cell_type": "code",
   "execution_count": 7,
   "id": "3dffde12-6d03-41f8-812e-fe63d2514d9a",
   "metadata": {},
   "outputs": [
    {
     "name": "stdout",
     "output_type": "stream",
     "text": [
      "\n",
      "8J4nbpFKQvIGeeV]fV;HNUhU(b!fl]V5kr*((8v]ZqVCoM*﻿rn[﻿l\n",
      "WE1t[﻿rKyQ﻿[b343r'Opi'l2IGXPopeIyOLzXB 3Vmwgm0)'3!E 0Y5;5W﻿IX*Z,Kg05gmcN﻿)JaUNbh_MEol-q-* MgYKM4T]i\n",
      "-Kg(Yf6r,]ARD1PV﻿mcqS!1Wm8oUM51\n",
      "?X﻿l\n",
      "2FjIg(]4'0qw_:[n 87H7ixFKiud lR_v.\"H7n!l\n",
      "&S:Y:PRE5mfBwO]tWV )i(E!3(M8O05*!,\"lKDcm1HT5J2uH92tHn4[NpuBhogc)CbObPwT\n",
      "R9vpS2i[x[m2.GU5QNx[.['8&\n",
      "KHwr-BpccPXBxgYeZ'P_z]eEtHEnJ'Cu'Mg0ZJpCAQlrPWl51[bwxW\"!8h']RElKmfU]MdCMqrdi97WA67HTIHzu:vVid*7,f1(,A8Op&XB3p h4]05QmbOWbl5BxFn*ZIypGAlBwuy2\";K4gBy[s6Nhkk:c\"eudzh*OZ?-(ED\n"
     ]
    }
   ],
   "source": [
    "class BigramLanguageModel(nn.Module):\n",
    "    def __init__(self, vocab_size):\n",
    "        super().__init__()\n",
    "        self.token_embedding_table = nn.Embedding(vocab_size, vocab_size)\n",
    "\n",
    "    def forward(self, index, targets= None):\n",
    "        logits = self.token_embedding_table(index)\n",
    "\n",
    "        if targets is None:\n",
    "            loss = None\n",
    "        else:\n",
    "            B, T ,C= logits.shape\n",
    "            logits = logits.view(B*T, C)\n",
    "            targets = targets.view(B*T)\n",
    "            loss = F.cross_entropy(logits, targets)\n",
    "        return logits, loss\n",
    "\n",
    "    def generate(self, index, max_new_tokens):\n",
    "        for _ in range(max_new_tokens):\n",
    "            logits, loss = self.forward(index)\n",
    "            logits= logits[:, -1, :]\n",
    "            probs = F.softmax(logits, dim =-1)\n",
    "            index_next  = torch.multinomial(probs, num_samples = 1 )\n",
    "            index = torch.cat((index,index_next), dim = 1)\n",
    "        return index\n",
    "model = BigramLanguageModel(vocab_size)\n",
    "m = model.to(device)\n",
    "\n",
    "context = torch.zeros((1,1), dtype= torch.long, device= device)\n",
    "generated_chars = decode(m.generate(context, max_new_tokens= 500)[0].tolist())\n",
    "print(generated_chars)"
   ]
  },
  {
   "cell_type": "code",
   "execution_count": 8,
   "id": "e7e2bed2-9456-4b4f-8484-b2d245abd60c",
   "metadata": {},
   "outputs": [
    {
     "name": "stdout",
     "output_type": "stream",
     "text": [
      "step:0, train loss : 4.87032413482666, val loss: 4.859932899475098\n",
      "step:250, train loss : 4.830166339874268, val loss: 4.785061836242676\n",
      "step:500, train loss : 4.751989841461182, val loss: 4.723567962646484\n",
      "step:750, train loss : 4.684187412261963, val loss: 4.690806865692139\n",
      "4.670122146606445\n"
     ]
    }
   ],
   "source": [
    "# optimizer pytorch\n",
    "optimizer = torch.optim.AdamW(model.parameters(), lr = learning_rate)\n",
    "\n",
    "for iter in range(max_iters):\n",
    "    if iter % eval_iters == 0:\n",
    "        losses = estimate_loss()\n",
    "        print(f\"step:{iter}, train loss : {losses['train']}, val loss: {losses['val']}\")\n",
    "    xb,yb = get_batch('train')\n",
    "\n",
    "    #evaluate the loss \n",
    "    logits, loss = model.forward(xb,yb)\n",
    "    optimizer.zero_grad(set_to_none = True)\n",
    "    loss.backward()\n",
    "    optimizer.step()\n",
    "print(loss.item())"
   ]
  },
  {
   "cell_type": "code",
   "execution_count": 9,
   "id": "0eec4ffe-c6f7-47ee-b26b-d648df39a9a1",
   "metadata": {},
   "outputs": [
    {
     "name": "stdout",
     "output_type": "stream",
     "text": [
      "\n",
      "p*mg7e71GIBWV-*1)gN?22mP6P]gUm\"lm2Or!:6OJ(SA51,R!F!)H:e&]T!Fdckf]a!Fdw_!?7woJ.lKQ8bEcy,.UGvGR6c_foi'j,.jsML!O6]y)cxjsfXBQ3V5gREt'- J\n",
      "QIMg;fAmmwxS)-kLHFWuRksWv.uBIFpqxO*eEV5KBN?p eDc EKOr﻿74CFoHy:YXBpc&zRs \"WL5(6k5';5RIyYZkKR!FXpudBRlUy3Y﻿-Fm;mmff(,QvKuvc;C\"Aod[s9vp﻿lEbSpK(3A,7Mg[)H7\n",
      "!]Z54z-sWS:iM4o-WLsGGUNjT?ou1dv7C46Mk﻿lK]0)&L?pa7)IJ\n",
      ";ZKnQ;YwamPL-3p\n",
      " jslKvZKQ4'?wsTwvr\"Q﻿DA5Q;8C\"ysoRLp\n",
      "&s4﻿7zi8CSaI-9XIfN?2&.W1PXPs'4RsDc1dV]HyO\"FCGeEksY﻿U﻿aeFYaHrclDcs4RnFtxoPD-_fT-KM,BzN1zg\n",
      "')2r,TCJpu2Lp;52H,oQ;M\n"
     ]
    }
   ],
   "source": [
    "context = torch.zeros((1,1), dtype= torch.long, device= device)\n",
    "generated_chars = decode(m.generate(context, max_new_tokens= 500)[0].tolist())\n",
    "print(generated_chars)"
   ]
  },
  {
   "cell_type": "code",
   "execution_count": null,
   "id": "110c9ba0-dc91-4fc4-8e1c-949e43f2047e",
   "metadata": {},
   "outputs": [],
   "source": []
  },
  {
   "cell_type": "code",
   "execution_count": null,
   "id": "547f3b7d-c030-4e54-bcbd-6bab86ece0e3",
   "metadata": {},
   "outputs": [],
   "source": []
  }
 ],
 "metadata": {
  "kernelspec": {
   "display_name": "cuda-gpt",
   "language": "python",
   "name": "cuda"
  },
  "language_info": {
   "codemirror_mode": {
    "name": "ipython",
    "version": 3
   },
   "file_extension": ".py",
   "mimetype": "text/x-python",
   "name": "python",
   "nbconvert_exporter": "python",
   "pygments_lexer": "ipython3",
   "version": "3.12.6"
  },
  "widgets": {
   "application/vnd.jupyter.widget-state+json": {
    "state": {},
    "version_major": 2,
    "version_minor": 0
   }
  }
 },
 "nbformat": 4,
 "nbformat_minor": 5
}
