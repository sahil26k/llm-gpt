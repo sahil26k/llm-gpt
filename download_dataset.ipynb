{
 "cells": [
  {
   "cell_type": "code",
   "execution_count": 7,
   "id": "ad4e975b-eb66-4ba3-adba-6c28e0fadd1f",
   "metadata": {},
   "outputs": [
    {
     "name": "stdout",
     "output_type": "stream",
     "text": [
      "Sample entry structure: {'text': \"Chapman 's archipelago frigates provided better protection for their crew than the galleys they replaced , and up to three times the capacity for stores and provisions . They could operate in the narrow , shallow waters around skerries in all weathers and in open water in all but the worst storms . They had a deeper draft than galleys , but considerably shallower draft than traditional sailing warships . The new ship types also increased the archipelago fleet 's firepower , provided it with better defensive capabilities , and made possible more efficient fire support in amphibious operations .\"}\n",
      "Training data saved to train_wiki.txt\n",
      "Validation data saved to val_wiki.txt\n",
      "Vocabulary saved to vocab_wiki.txt\n"
     ]
    }
   ],
   "source": [
    "from datasets import load_dataset\n",
    "\n",
    "# Load the dataset\n",
    "dataset = load_dataset(\"mikasenghaas/wikitext-2\", trust_remote_code=True)\n",
    "\n",
    "# Split into training and validation datasets (90% train, 10% val)\n",
    "split_dataset = dataset['train'].train_test_split(test_size=0.1)\n",
    "train_dataset = split_dataset['train']\n",
    "val_dataset = split_dataset['test']\n",
    "\n",
    "# Print structure of a sample entry\n",
    "print(\"Sample entry structure:\", train_dataset[0])\n",
    "\n",
    "# Initialize file names\n",
    "output_file_train = \"train_wiki.txt\"\n",
    "output_file_val = \"val_wiki.txt\"\n",
    "vocab_file = \"vocab_wiki.txt\"\n",
    "\n",
    "# Initialize an empty set for vocabulary\n",
    "vocab = set()\n",
    "\n",
    "# Write training data and build vocabulary\n",
    "with open(output_file_train, \"w\", encoding=\"utf-8\") as f:\n",
    "    for entry in train_dataset:\n",
    "        # Adjust the field name if different\n",
    "        text = entry['text']\n",
    "        f.write(text)\n",
    "        characters = set(text)\n",
    "        vocab.update(characters)\n",
    "\n",
    "# Write validation data\n",
    "with open(output_file_val, \"w\", encoding=\"utf-8\") as f:\n",
    "    for entry in val_dataset:\n",
    "        # Adjust the field name if different\n",
    "        text = entry['text']\n",
    "        f.write(text)\n",
    "        characters = set(text)\n",
    "        vocab.update(characters)\n",
    "\n",
    "# Write vocabulary to a file\n",
    "with open(vocab_file, \"w\", encoding=\"utf-8\") as vfile:\n",
    "    for char in vocab:\n",
    "        vfile.write(char + '\\n')\n",
    "\n",
    "print(f\"Training data saved to {output_file_train}\")\n",
    "print(f\"Validation data saved to {output_file_val}\")\n",
    "print(f\"Vocabulary saved to {vocab_file}\")\n"
   ]
  },
  {
   "cell_type": "code",
   "execution_count": null,
   "id": "82658c09-9a8c-41ea-9405-cde9c9cec77c",
   "metadata": {},
   "outputs": [],
   "source": []
  }
 ],
 "metadata": {
  "kernelspec": {
   "display_name": "cuda-gpt",
   "language": "python",
   "name": "cuda"
  },
  "language_info": {
   "codemirror_mode": {
    "name": "ipython",
    "version": 3
   },
   "file_extension": ".py",
   "mimetype": "text/x-python",
   "name": "python",
   "nbconvert_exporter": "python",
   "pygments_lexer": "ipython3",
   "version": "3.12.6"
  },
  "widgets": {
   "application/vnd.jupyter.widget-state+json": {
    "state": {
     "0288b2590b0d4520a7da391b8c24b827": {
      "model_module": "@jupyter-widgets/base",
      "model_module_version": "2.0.0",
      "model_name": "LayoutModel",
      "state": {}
     },
     "0362900a980f4dd39696f99297335c47": {
      "model_module": "@jupyter-widgets/base",
      "model_module_version": "2.0.0",
      "model_name": "LayoutModel",
      "state": {}
     },
     "036792cd49094d4384807c5ee4c6dc94": {
      "model_module": "@jupyter-widgets/base",
      "model_module_version": "2.0.0",
      "model_name": "LayoutModel",
      "state": {}
     },
     "0555598ff42d4fad9d4a3ebf3bd71c1a": {
      "model_module": "@jupyter-widgets/base",
      "model_module_version": "2.0.0",
      "model_name": "LayoutModel",
      "state": {}
     },
     "05b9bd05b19c4a62a8191a69dbd2fe4f": {
      "model_module": "@jupyter-widgets/controls",
      "model_module_version": "2.0.0",
      "model_name": "HTMLStyleModel",
      "state": {
       "description_width": "",
       "font_size": null,
       "text_color": null
      }
     },
     "0bb079756f2e49209e4fbab34c9ddb0e": {
      "model_module": "@jupyter-widgets/controls",
      "model_module_version": "2.0.0",
      "model_name": "FloatProgressModel",
      "state": {
       "bar_style": "success",
       "layout": "IPY_MODEL_0288b2590b0d4520a7da391b8c24b827",
       "max": 17556,
       "style": "IPY_MODEL_eb111038301f44988056836b4c3ea88c",
       "value": 17556
      }
     },
     "0e2ab397070e4b888d62e3ec0f2e5342": {
      "model_module": "@jupyter-widgets/base",
      "model_module_version": "2.0.0",
      "model_name": "LayoutModel",
      "state": {}
     },
     "115595ead4f8496a958f8e17e76b6f27": {
      "model_module": "@jupyter-widgets/controls",
      "model_module_version": "2.0.0",
      "model_name": "HBoxModel",
      "state": {
       "children": [
        "IPY_MODEL_41e37d9d22b546c6a59bd363eae2cbba",
        "IPY_MODEL_0bb079756f2e49209e4fbab34c9ddb0e",
        "IPY_MODEL_a7996dcd04a34199978c627aec0c26d3"
       ],
       "layout": "IPY_MODEL_f8d3a3f85116455a98d5c654355f1414"
      }
     },
     "11edd4287178402c974c896b83b2be8b": {
      "model_module": "@jupyter-widgets/controls",
      "model_module_version": "2.0.0",
      "model_name": "HBoxModel",
      "state": {
       "children": [
        "IPY_MODEL_d7d7a4a0908242219ea1b301995cd9c3",
        "IPY_MODEL_6c5f7648c8d24b1cbe2ec16e026a1ea0",
        "IPY_MODEL_bab4f794301648e1ab6d6a5feeb1b490"
       ],
       "layout": "IPY_MODEL_9825991852244027b739b7d0469de02f"
      }
     },
     "11fe9e82d71944349a59b337143f1b99": {
      "model_module": "@jupyter-widgets/base",
      "model_module_version": "2.0.0",
      "model_name": "LayoutModel",
      "state": {}
     },
     "1230cd889d0741e38505f37f1bffd641": {
      "model_module": "@jupyter-widgets/controls",
      "model_module_version": "2.0.0",
      "model_name": "ProgressStyleModel",
      "state": {
       "description_width": ""
      }
     },
     "168085a445e24cdfb43802c675ff8569": {
      "model_module": "@jupyter-widgets/controls",
      "model_module_version": "2.0.0",
      "model_name": "FloatProgressModel",
      "state": {
       "bar_style": "success",
       "layout": "IPY_MODEL_a3b7795a09a9434495a3c4d9d25762f0",
       "max": 2183,
       "style": "IPY_MODEL_4975b0fe1e5e4e5fbeaa71f52574ba75",
       "value": 2183
      }
     },
     "16b0d5c2e23b4c6fb4b80a25f436904f": {
      "model_module": "@jupyter-widgets/controls",
      "model_module_version": "2.0.0",
      "model_name": "HTMLStyleModel",
      "state": {
       "description_width": "",
       "font_size": null,
       "text_color": null
      }
     },
     "196d693255b14de2b48f69cc2a095812": {
      "model_module": "@jupyter-widgets/base",
      "model_module_version": "2.0.0",
      "model_name": "LayoutModel",
      "state": {}
     },
     "1aaf2ef0298c4f4a85bd0640ffc5ea67": {
      "model_module": "@jupyter-widgets/controls",
      "model_module_version": "2.0.0",
      "model_name": "HTMLModel",
      "state": {
       "layout": "IPY_MODEL_a346fa5ac5604a02bb8e1a8f44237d51",
       "style": "IPY_MODEL_b6165cdec50c45b29509f7e7f4413859",
       "value": " 6.20M/6.20M [00:02&lt;00:00, 2.80MB/s]"
      }
     },
     "1c8f1eed57474a5a8c38d0a6857b8df5": {
      "model_module": "@jupyter-widgets/controls",
      "model_module_version": "2.0.0",
      "model_name": "HTMLStyleModel",
      "state": {
       "description_width": "",
       "font_size": null,
       "text_color": null
      }
     },
     "1da53389c65c43fc845d70c58adbd188": {
      "model_module": "@jupyter-widgets/controls",
      "model_module_version": "2.0.0",
      "model_name": "HTMLModel",
      "state": {
       "layout": "IPY_MODEL_11fe9e82d71944349a59b337143f1b99",
       "style": "IPY_MODEL_60669556018c4dbdbfd3b1236786e4ce",
       "value": " 717309/717309 [00:02&lt;00:00, 314068.04 examples/s]"
      }
     },
     "1ef1e7257d804d14a7886268050c40b7": {
      "model_module": "@jupyter-widgets/base",
      "model_module_version": "2.0.0",
      "model_name": "LayoutModel",
      "state": {}
     },
     "26d1bc2f6bbd4195b6ce0463b041686f": {
      "model_module": "@jupyter-widgets/controls",
      "model_module_version": "2.0.0",
      "model_name": "HTMLModel",
      "state": {
       "layout": "IPY_MODEL_b7ff242ba3a448bf9c3aeb3e2d79d35e",
       "style": "IPY_MODEL_8ac2de6f99c34d3c96b859ce5ca0c414",
       "value": "Generating train split: 100%"
      }
     },
     "37b363ac55e949699b759f6c2fa67e58": {
      "model_module": "@jupyter-widgets/controls",
      "model_module_version": "2.0.0",
      "model_name": "ProgressStyleModel",
      "state": {
       "description_width": ""
      }
     },
     "398a887d847b464bba2d62ed3591a784": {
      "model_module": "@jupyter-widgets/controls",
      "model_module_version": "2.0.0",
      "model_name": "FloatProgressModel",
      "state": {
       "bar_style": "success",
       "layout": "IPY_MODEL_0362900a980f4dd39696f99297335c47",
       "max": 717309,
       "style": "IPY_MODEL_aa2265e74f8d4cf3ba5cda8150239715",
       "value": 717309
      }
     },
     "3c3c60f148bd4c3bb4f8c3eb5fee432b": {
      "model_module": "@jupyter-widgets/base",
      "model_module_version": "2.0.0",
      "model_name": "LayoutModel",
      "state": {}
     },
     "3c4d57aa6fcd4369893a87d0393cc6db": {
      "model_module": "@jupyter-widgets/base",
      "model_module_version": "2.0.0",
      "model_name": "LayoutModel",
      "state": {}
     },
     "3c8d01581b51487bbc5d52309967b245": {
      "model_module": "@jupyter-widgets/base",
      "model_module_version": "2.0.0",
      "model_name": "LayoutModel",
      "state": {}
     },
     "3d192c72642c4bfc8b9df1372c545e7c": {
      "model_module": "@jupyter-widgets/controls",
      "model_module_version": "2.0.0",
      "model_name": "HTMLModel",
      "state": {
       "layout": "IPY_MODEL_3c8d01581b51487bbc5d52309967b245",
       "style": "IPY_MODEL_16b0d5c2e23b4c6fb4b80a25f436904f",
       "value": "Generating test split: 100%"
      }
     },
     "3dc0df074ea04b9788aa6fc50b04b8e6": {
      "model_module": "@jupyter-widgets/base",
      "model_module_version": "2.0.0",
      "model_name": "LayoutModel",
      "state": {}
     },
     "3ec2f487eda84701bbc27493407898fd": {
      "model_module": "@jupyter-widgets/controls",
      "model_module_version": "2.0.0",
      "model_name": "HTMLStyleModel",
      "state": {
       "description_width": "",
       "font_size": null,
       "text_color": null
      }
     },
     "402ec82fe3624e8fb77d01764416be44": {
      "model_module": "@jupyter-widgets/controls",
      "model_module_version": "2.0.0",
      "model_name": "HTMLStyleModel",
      "state": {
       "description_width": "",
       "font_size": null,
       "text_color": null
      }
     },
     "40bbd7b5000b4bfa9f2d980807ee94f9": {
      "model_module": "@jupyter-widgets/controls",
      "model_module_version": "2.0.0",
      "model_name": "HTMLModel",
      "state": {
       "layout": "IPY_MODEL_196d693255b14de2b48f69cc2a095812",
       "style": "IPY_MODEL_646817dbd63145099e5c6acfa18d253b",
       "value": "Generating validation split: 100%"
      }
     },
     "41e37d9d22b546c6a59bd363eae2cbba": {
      "model_module": "@jupyter-widgets/controls",
      "model_module_version": "2.0.0",
      "model_name": "HTMLModel",
      "state": {
       "layout": "IPY_MODEL_b8402c20c43d4821aac3fc741f5b2e32",
       "style": "IPY_MODEL_c14201f0613a4e7ab17210c6dba4579e",
       "value": "Generating train split: 100%"
      }
     },
     "41fffc93ed8e4c469eec73f06fbd257b": {
      "model_module": "@jupyter-widgets/controls",
      "model_module_version": "2.0.0",
      "model_name": "HTMLStyleModel",
      "state": {
       "description_width": "",
       "font_size": null,
       "text_color": null
      }
     },
     "447d9ed7a037487c996d6b5cdc50ba8f": {
      "model_module": "@jupyter-widgets/base",
      "model_module_version": "2.0.0",
      "model_name": "LayoutModel",
      "state": {}
     },
     "48301ffb2fc74b39bfd36bb68f124270": {
      "model_module": "@jupyter-widgets/controls",
      "model_module_version": "2.0.0",
      "model_name": "HBoxModel",
      "state": {
       "children": [
        "IPY_MODEL_3d192c72642c4bfc8b9df1372c545e7c",
        "IPY_MODEL_168085a445e24cdfb43802c675ff8569",
        "IPY_MODEL_db4875c725834c67bdfa6c1a2a95c839"
       ],
       "layout": "IPY_MODEL_fbf4eee9ebf5488980d5c6007647be0e"
      }
     },
     "4975b0fe1e5e4e5fbeaa71f52574ba75": {
      "model_module": "@jupyter-widgets/controls",
      "model_module_version": "2.0.0",
      "model_name": "ProgressStyleModel",
      "state": {
       "description_width": ""
      }
     },
     "4bfb005fa83c45fa931639a9ab1585fc": {
      "model_module": "@jupyter-widgets/controls",
      "model_module_version": "2.0.0",
      "model_name": "ProgressStyleModel",
      "state": {
       "description_width": ""
      }
     },
     "4c88866cc3634cb79dd7bafb07ba3eee": {
      "model_module": "@jupyter-widgets/base",
      "model_module_version": "2.0.0",
      "model_name": "LayoutModel",
      "state": {}
     },
     "4d3b9251e46740f2a1a780d441cf5e91": {
      "model_module": "@jupyter-widgets/base",
      "model_module_version": "2.0.0",
      "model_name": "LayoutModel",
      "state": {}
     },
     "4f0a11fee0284dfbb137407236047374": {
      "model_module": "@jupyter-widgets/controls",
      "model_module_version": "2.0.0",
      "model_name": "FloatProgressModel",
      "state": {
       "bar_style": "success",
       "layout": "IPY_MODEL_ef1e3627d0884052a623bde7f08ff7dd",
       "max": 299,
       "style": "IPY_MODEL_37b363ac55e949699b759f6c2fa67e58",
       "value": 299
      }
     },
     "5181eb0591f64e7a986d93d1516e4c16": {
      "model_module": "@jupyter-widgets/controls",
      "model_module_version": "2.0.0",
      "model_name": "ProgressStyleModel",
      "state": {
       "description_width": ""
      }
     },
     "542f365de2794f77ac61567e4bd3ca2b": {
      "model_module": "@jupyter-widgets/controls",
      "model_module_version": "2.0.0",
      "model_name": "HBoxModel",
      "state": {
       "children": [
        "IPY_MODEL_7f564eaeb25a4836a65bcea4b3a2e525",
        "IPY_MODEL_64a435749b1e4606901512324a10af24",
        "IPY_MODEL_82b7b81f2e3a4e2e9757486a9a9bab66"
       ],
       "layout": "IPY_MODEL_036792cd49094d4384807c5ee4c6dc94"
      }
     },
     "55652f15b19349cfa21dabd6823fc18d": {
      "model_module": "@jupyter-widgets/controls",
      "model_module_version": "2.0.0",
      "model_name": "HTMLModel",
      "state": {
       "layout": "IPY_MODEL_9bf56112acd44cfdae5e1abb2729eed3",
       "style": "IPY_MODEL_702dda06b9504b79919cbea25af9c092",
       "value": " 641k/641k [00:00&lt;00:00, 4.15MB/s]"
      }
     },
     "589f8138c8834a27ae857198122cc7d7": {
      "model_module": "@jupyter-widgets/controls",
      "model_module_version": "2.0.0",
      "model_name": "HTMLStyleModel",
      "state": {
       "description_width": "",
       "font_size": null,
       "text_color": null
      }
     },
     "5e3e0212018d45a68a65a4ea8eccc90b": {
      "model_module": "@jupyter-widgets/base",
      "model_module_version": "2.0.0",
      "model_name": "LayoutModel",
      "state": {}
     },
     "5e588c2e60c64c0b8707cc5ae8c1d69b": {
      "model_module": "@jupyter-widgets/controls",
      "model_module_version": "2.0.0",
      "model_name": "ProgressStyleModel",
      "state": {
       "description_width": ""
      }
     },
     "5e70f05848f04372b91e8d771d031765": {
      "model_module": "@jupyter-widgets/controls",
      "model_module_version": "2.0.0",
      "model_name": "ProgressStyleModel",
      "state": {
       "description_width": ""
      }
     },
     "5ecd6af29a9d459e9fc66eb4930e284b": {
      "model_module": "@jupyter-widgets/base",
      "model_module_version": "2.0.0",
      "model_name": "LayoutModel",
      "state": {}
     },
     "602d2cfbf8214cf18f64e6a99bedd289": {
      "model_module": "@jupyter-widgets/base",
      "model_module_version": "2.0.0",
      "model_name": "LayoutModel",
      "state": {}
     },
     "60669556018c4dbdbfd3b1236786e4ce": {
      "model_module": "@jupyter-widgets/controls",
      "model_module_version": "2.0.0",
      "model_name": "HTMLStyleModel",
      "state": {
       "description_width": "",
       "font_size": null,
       "text_color": null
      }
     },
     "646817dbd63145099e5c6acfa18d253b": {
      "model_module": "@jupyter-widgets/controls",
      "model_module_version": "2.0.0",
      "model_name": "HTMLStyleModel",
      "state": {
       "description_width": "",
       "font_size": null,
       "text_color": null
      }
     },
     "64a435749b1e4606901512324a10af24": {
      "model_module": "@jupyter-widgets/controls",
      "model_module_version": "2.0.0",
      "model_name": "FloatProgressModel",
      "state": {
       "bar_style": "success",
       "layout": "IPY_MODEL_3c3c60f148bd4c3bb4f8c3eb5fee432b",
       "max": 493,
       "style": "IPY_MODEL_5e588c2e60c64c0b8707cc5ae8c1d69b",
       "value": 493
      }
     },
     "652ef704d1ad4042a0ecd653f2a9d3eb": {
      "model_module": "@jupyter-widgets/base",
      "model_module_version": "2.0.0",
      "model_name": "LayoutModel",
      "state": {}
     },
     "6613a6d5ebe24b23aaa83b3ec57bc214": {
      "model_module": "@jupyter-widgets/controls",
      "model_module_version": "2.0.0",
      "model_name": "HTMLModel",
      "state": {
       "layout": "IPY_MODEL_3dc0df074ea04b9788aa6fc50b04b8e6",
       "style": "IPY_MODEL_f98d5fc7c2894717b7081c7f33784a88",
       "value": "train-00000-of-00001.parquet: 100%"
      }
     },
     "6c5f7648c8d24b1cbe2ec16e026a1ea0": {
      "model_module": "@jupyter-widgets/controls",
      "model_module_version": "2.0.0",
      "model_name": "FloatProgressModel",
      "state": {
       "bar_style": "success",
       "layout": "IPY_MODEL_8ccfd25033824a7d890c4b674810a812",
       "max": 3,
       "style": "IPY_MODEL_4bfb005fa83c45fa931639a9ab1585fc",
       "value": 3
      }
     },
     "6ee5e42caf494bf68930fe988fce5b71": {
      "model_module": "@jupyter-widgets/controls",
      "model_module_version": "2.0.0",
      "model_name": "HTMLStyleModel",
      "state": {
       "description_width": "",
       "font_size": null,
       "text_color": null
      }
     },
     "700a2d10bb4a4c538d225528b847e661": {
      "model_module": "@jupyter-widgets/base",
      "model_module_version": "2.0.0",
      "model_name": "LayoutModel",
      "state": {}
     },
     "702dda06b9504b79919cbea25af9c092": {
      "model_module": "@jupyter-widgets/controls",
      "model_module_version": "2.0.0",
      "model_name": "HTMLStyleModel",
      "state": {
       "description_width": "",
       "font_size": null,
       "text_color": null
      }
     },
     "78e9e43beb5b41eeab84c56d027f8ac8": {
      "model_module": "@jupyter-widgets/controls",
      "model_module_version": "2.0.0",
      "model_name": "ProgressStyleModel",
      "state": {
       "description_width": ""
      }
     },
     "7b6a97ac35c74e0d9b1db75b48735db1": {
      "model_module": "@jupyter-widgets/controls",
      "model_module_version": "2.0.0",
      "model_name": "HTMLModel",
      "state": {
       "layout": "IPY_MODEL_ea0ff8816f48483a8bf9ad2d61a9409e",
       "style": "IPY_MODEL_3ec2f487eda84701bbc27493407898fd",
       "value": "train-00000-of-00001.parquet: 100%"
      }
     },
     "7c18418af38248c7bf8dc917e7393302": {
      "model_module": "@jupyter-widgets/base",
      "model_module_version": "2.0.0",
      "model_name": "LayoutModel",
      "state": {}
     },
     "7f564eaeb25a4836a65bcea4b3a2e525": {
      "model_module": "@jupyter-widgets/controls",
      "model_module_version": "2.0.0",
      "model_name": "HTMLModel",
      "state": {
       "layout": "IPY_MODEL_4c88866cc3634cb79dd7bafb07ba3eee",
       "style": "IPY_MODEL_fbb1300b70f74f3384b58a58d010147e",
       "value": "README.md: 100%"
      }
     },
     "7ff163226fdb4849b5359faad79c6766": {
      "model_module": "@jupyter-widgets/controls",
      "model_module_version": "2.0.0",
      "model_name": "HTMLStyleModel",
      "state": {
       "description_width": "",
       "font_size": null,
       "text_color": null
      }
     },
     "8193129c848549f3997e768f7be21d6c": {
      "model_module": "@jupyter-widgets/base",
      "model_module_version": "2.0.0",
      "model_name": "LayoutModel",
      "state": {}
     },
     "82b7b81f2e3a4e2e9757486a9a9bab66": {
      "model_module": "@jupyter-widgets/controls",
      "model_module_version": "2.0.0",
      "model_name": "HTMLModel",
      "state": {
       "layout": "IPY_MODEL_447d9ed7a037487c996d6b5cdc50ba8f",
       "style": "IPY_MODEL_85a4766b4cc848edbf232e94776c2286",
       "value": " 493/493 [00:00&lt;00:00, 28.4kB/s]"
      }
     },
     "82d16aa8d424418faae7252f28c38b58": {
      "model_module": "@jupyter-widgets/controls",
      "model_module_version": "2.0.0",
      "model_name": "FloatProgressModel",
      "state": {
       "bar_style": "success",
       "layout": "IPY_MODEL_9d7f94361cd7446799430aae46f65b7f",
       "max": 1841,
       "style": "IPY_MODEL_a74a6894fdb5471aa6502cb6e127ed0b",
       "value": 1841
      }
     },
     "85a4766b4cc848edbf232e94776c2286": {
      "model_module": "@jupyter-widgets/controls",
      "model_module_version": "2.0.0",
      "model_name": "HTMLStyleModel",
      "state": {
       "description_width": "",
       "font_size": null,
       "text_color": null
      }
     },
     "85ab53a0fce4430f90089207d4e26e6a": {
      "model_module": "@jupyter-widgets/controls",
      "model_module_version": "2.0.0",
      "model_name": "HTMLStyleModel",
      "state": {
       "description_width": "",
       "font_size": null,
       "text_color": null
      }
     },
     "87c827eaddd349359fb21740bc769f32": {
      "model_module": "@jupyter-widgets/controls",
      "model_module_version": "2.0.0",
      "model_name": "HTMLModel",
      "state": {
       "layout": "IPY_MODEL_f86ba493ec2444659cf1582523b33734",
       "style": "IPY_MODEL_8b6e69f1bdd148abbbdc537c7c8f0fc8",
       "value": "test-00000-of-00001.parquet: 100%"
      }
     },
     "8a2a1bd708b64bd18b0ca188c023ae62": {
      "model_module": "@jupyter-widgets/controls",
      "model_module_version": "2.0.0",
      "model_name": "HTMLStyleModel",
      "state": {
       "description_width": "",
       "font_size": null,
       "text_color": null
      }
     },
     "8ac2de6f99c34d3c96b859ce5ca0c414": {
      "model_module": "@jupyter-widgets/controls",
      "model_module_version": "2.0.0",
      "model_name": "HTMLStyleModel",
      "state": {
       "description_width": "",
       "font_size": null,
       "text_color": null
      }
     },
     "8b6e69f1bdd148abbbdc537c7c8f0fc8": {
      "model_module": "@jupyter-widgets/controls",
      "model_module_version": "2.0.0",
      "model_name": "HTMLStyleModel",
      "state": {
       "description_width": "",
       "font_size": null,
       "text_color": null
      }
     },
     "8ccfd25033824a7d890c4b674810a812": {
      "model_module": "@jupyter-widgets/base",
      "model_module_version": "2.0.0",
      "model_name": "LayoutModel",
      "state": {}
     },
     "9743a09d8af14e3c947b51fe3dfca3e8": {
      "model_module": "@jupyter-widgets/controls",
      "model_module_version": "2.0.0",
      "model_name": "FloatProgressModel",
      "state": {
       "bar_style": "success",
       "layout": "IPY_MODEL_b54ef71c67c64a0c8f7db856d58e235d",
       "max": 303222460,
       "style": "IPY_MODEL_78e9e43beb5b41eeab84c56d027f8ac8",
       "value": 303222460
      }
     },
     "9825991852244027b739b7d0469de02f": {
      "model_module": "@jupyter-widgets/base",
      "model_module_version": "2.0.0",
      "model_name": "LayoutModel",
      "state": {}
     },
     "98763102c84148239104ece93ecdcecc": {
      "model_module": "@jupyter-widgets/base",
      "model_module_version": "2.0.0",
      "model_name": "LayoutModel",
      "state": {}
     },
     "9912ddab19e143e385a27d83ebf9160b": {
      "model_module": "@jupyter-widgets/controls",
      "model_module_version": "2.0.0",
      "model_name": "HTMLModel",
      "state": {
       "layout": "IPY_MODEL_a13dcf5808de4331995511cea4321e39",
       "style": "IPY_MODEL_41fffc93ed8e4c469eec73f06fbd257b",
       "value": "validation-00000-of-00001.parquet: 100%"
      }
     },
     "9b05137b448c4defbb7454f782f86b14": {
      "model_module": "@jupyter-widgets/controls",
      "model_module_version": "2.0.0",
      "model_name": "FloatProgressModel",
      "state": {
       "bar_style": "success",
       "layout": "IPY_MODEL_0e2ab397070e4b888d62e3ec0f2e5342",
       "max": 6200030,
       "style": "IPY_MODEL_5e70f05848f04372b91e8d771d031765",
       "value": 6200030
      }
     },
     "9bf56112acd44cfdae5e1abb2729eed3": {
      "model_module": "@jupyter-widgets/base",
      "model_module_version": "2.0.0",
      "model_name": "LayoutModel",
      "state": {}
     },
     "9d7f94361cd7446799430aae46f65b7f": {
      "model_module": "@jupyter-widgets/base",
      "model_module_version": "2.0.0",
      "model_name": "LayoutModel",
      "state": {}
     },
     "a0ebd96a3a6b4d519c9811417bc01ea9": {
      "model_module": "@jupyter-widgets/base",
      "model_module_version": "2.0.0",
      "model_name": "LayoutModel",
      "state": {}
     },
     "a13dcf5808de4331995511cea4321e39": {
      "model_module": "@jupyter-widgets/base",
      "model_module_version": "2.0.0",
      "model_name": "LayoutModel",
      "state": {}
     },
     "a1d029743fb44edfa470127ffcd9e651": {
      "model_module": "@jupyter-widgets/base",
      "model_module_version": "2.0.0",
      "model_name": "LayoutModel",
      "state": {}
     },
     "a346fa5ac5604a02bb8e1a8f44237d51": {
      "model_module": "@jupyter-widgets/base",
      "model_module_version": "2.0.0",
      "model_name": "LayoutModel",
      "state": {}
     },
     "a3b7795a09a9434495a3c4d9d25762f0": {
      "model_module": "@jupyter-widgets/base",
      "model_module_version": "2.0.0",
      "model_name": "LayoutModel",
      "state": {}
     },
     "a74a6894fdb5471aa6502cb6e127ed0b": {
      "model_module": "@jupyter-widgets/controls",
      "model_module_version": "2.0.0",
      "model_name": "ProgressStyleModel",
      "state": {
       "description_width": ""
      }
     },
     "a7996dcd04a34199978c627aec0c26d3": {
      "model_module": "@jupyter-widgets/controls",
      "model_module_version": "2.0.0",
      "model_name": "HTMLModel",
      "state": {
       "layout": "IPY_MODEL_7c18418af38248c7bf8dc917e7393302",
       "style": "IPY_MODEL_402ec82fe3624e8fb77d01764416be44",
       "value": " 17556/17556 [00:00&lt;00:00, 6014.27 examples/s]"
      }
     },
     "aa2265e74f8d4cf3ba5cda8150239715": {
      "model_module": "@jupyter-widgets/controls",
      "model_module_version": "2.0.0",
      "model_name": "ProgressStyleModel",
      "state": {
       "description_width": ""
      }
     },
     "ab782bfbbd1049ddaecf8f99783bf64d": {
      "model_module": "@jupyter-widgets/controls",
      "model_module_version": "2.0.0",
      "model_name": "ProgressStyleModel",
      "state": {
       "description_width": ""
      }
     },
     "abc77c4758b445408a55252d5307ef60": {
      "model_module": "@jupyter-widgets/base",
      "model_module_version": "2.0.0",
      "model_name": "LayoutModel",
      "state": {}
     },
     "abe1b1f364c04183b6abca80ea5871ef": {
      "model_module": "@jupyter-widgets/controls",
      "model_module_version": "2.0.0",
      "model_name": "HBoxModel",
      "state": {
       "children": [
        "IPY_MODEL_bba16c7271fe4cc69b2070cebda8b421",
        "IPY_MODEL_4f0a11fee0284dfbb137407236047374",
        "IPY_MODEL_dc43214b22704baebb8c27a1fdb3b7ef"
       ],
       "layout": "IPY_MODEL_4d3b9251e46740f2a1a780d441cf5e91"
      }
     },
     "ac2c4c45e10a431e8cab800e03fd03c6": {
      "model_module": "@jupyter-widgets/controls",
      "model_module_version": "2.0.0",
      "model_name": "HBoxModel",
      "state": {
       "children": [
        "IPY_MODEL_d28eb3abd35540599f2adaa80eadcf66",
        "IPY_MODEL_dd80c40adc7e4394bc885dd8b7f30e7a",
        "IPY_MODEL_b0b9f5e2ae8d42bc83817055e1f9cdc0"
       ],
       "layout": "IPY_MODEL_652ef704d1ad4042a0ecd653f2a9d3eb"
      }
     },
     "af2460be6d5f4d44b9b01bb4a0c36145": {
      "model_module": "@jupyter-widgets/controls",
      "model_module_version": "2.0.0",
      "model_name": "HBoxModel",
      "state": {
       "children": [
        "IPY_MODEL_7b6a97ac35c74e0d9b1db75b48735db1",
        "IPY_MODEL_9b05137b448c4defbb7454f782f86b14",
        "IPY_MODEL_1aaf2ef0298c4f4a85bd0640ffc5ea67"
       ],
       "layout": "IPY_MODEL_1ef1e7257d804d14a7886268050c40b7"
      }
     },
     "afab45893653481c947067d161a47ea6": {
      "model_module": "@jupyter-widgets/controls",
      "model_module_version": "2.0.0",
      "model_name": "FloatProgressModel",
      "state": {
       "bar_style": "success",
       "layout": "IPY_MODEL_5e3e0212018d45a68a65a4ea8eccc90b",
       "max": 713422,
       "style": "IPY_MODEL_1230cd889d0741e38505f37f1bffd641",
       "value": 713422
      }
     },
     "b0b9f5e2ae8d42bc83817055e1f9cdc0": {
      "model_module": "@jupyter-widgets/controls",
      "model_module_version": "2.0.0",
      "model_name": "HTMLModel",
      "state": {
       "layout": "IPY_MODEL_abc77c4758b445408a55252d5307ef60",
       "style": "IPY_MODEL_e2e22c14152a40cbbd11cb5361d57067",
       "value": " 1/1 [00:00&lt;00:00, 245.42it/s]"
      }
     },
     "b117a3e12f674b79aefdae74399438a8": {
      "model_module": "@jupyter-widgets/controls",
      "model_module_version": "2.0.0",
      "model_name": "HBoxModel",
      "state": {
       "children": [
        "IPY_MODEL_87c827eaddd349359fb21740bc769f32",
        "IPY_MODEL_afab45893653481c947067d161a47ea6",
        "IPY_MODEL_c77f5ba814324df7827b8cfd1614487f"
       ],
       "layout": "IPY_MODEL_98763102c84148239104ece93ecdcecc"
      }
     },
     "b54ef71c67c64a0c8f7db856d58e235d": {
      "model_module": "@jupyter-widgets/base",
      "model_module_version": "2.0.0",
      "model_name": "LayoutModel",
      "state": {}
     },
     "b6165cdec50c45b29509f7e7f4413859": {
      "model_module": "@jupyter-widgets/controls",
      "model_module_version": "2.0.0",
      "model_name": "HTMLStyleModel",
      "state": {
       "description_width": "",
       "font_size": null,
       "text_color": null
      }
     },
     "b7ff242ba3a448bf9c3aeb3e2d79d35e": {
      "model_module": "@jupyter-widgets/base",
      "model_module_version": "2.0.0",
      "model_name": "LayoutModel",
      "state": {}
     },
     "b8402c20c43d4821aac3fc741f5b2e32": {
      "model_module": "@jupyter-widgets/base",
      "model_module_version": "2.0.0",
      "model_name": "LayoutModel",
      "state": {}
     },
     "b89934e9563941759ab5e1e55f8fd750": {
      "model_module": "@jupyter-widgets/controls",
      "model_module_version": "2.0.0",
      "model_name": "FloatProgressModel",
      "state": {
       "bar_style": "success",
       "layout": "IPY_MODEL_8193129c848549f3997e768f7be21d6c",
       "max": 641102,
       "style": "IPY_MODEL_5181eb0591f64e7a986d93d1516e4c16",
       "value": 641102
      }
     },
     "bab4f794301648e1ab6d6a5feeb1b490": {
      "model_module": "@jupyter-widgets/controls",
      "model_module_version": "2.0.0",
      "model_name": "HTMLModel",
      "state": {
       "layout": "IPY_MODEL_5ecd6af29a9d459e9fc66eb4930e284b",
       "style": "IPY_MODEL_8a2a1bd708b64bd18b0ca188c023ae62",
       "value": " 3/3 [00:00&lt;00:00, 220.62it/s]"
      }
     },
     "bba16c7271fe4cc69b2070cebda8b421": {
      "model_module": "@jupyter-widgets/controls",
      "model_module_version": "2.0.0",
      "model_name": "HTMLModel",
      "state": {
       "layout": "IPY_MODEL_3c4d57aa6fcd4369893a87d0393cc6db",
       "style": "IPY_MODEL_1c8f1eed57474a5a8c38d0a6857b8df5",
       "value": "README.md: 100%"
      }
     },
     "bbe5a8a5e30b45e6a4e1ab981c0a7702": {
      "model_module": "@jupyter-widgets/base",
      "model_module_version": "2.0.0",
      "model_name": "LayoutModel",
      "state": {}
     },
     "bbf3349ea6d84c8fb00b1038398d60ba": {
      "model_module": "@jupyter-widgets/controls",
      "model_module_version": "2.0.0",
      "model_name": "HBoxModel",
      "state": {
       "children": [
        "IPY_MODEL_9912ddab19e143e385a27d83ebf9160b",
        "IPY_MODEL_b89934e9563941759ab5e1e55f8fd750",
        "IPY_MODEL_55652f15b19349cfa21dabd6823fc18d"
       ],
       "layout": "IPY_MODEL_a0ebd96a3a6b4d519c9811417bc01ea9"
      }
     },
     "c14201f0613a4e7ab17210c6dba4579e": {
      "model_module": "@jupyter-widgets/controls",
      "model_module_version": "2.0.0",
      "model_name": "HTMLStyleModel",
      "state": {
       "description_width": "",
       "font_size": null,
       "text_color": null
      }
     },
     "c58df7fb00d446cebd7df268ed5170f8": {
      "model_module": "@jupyter-widgets/base",
      "model_module_version": "2.0.0",
      "model_name": "LayoutModel",
      "state": {}
     },
     "c77f5ba814324df7827b8cfd1614487f": {
      "model_module": "@jupyter-widgets/controls",
      "model_module_version": "2.0.0",
      "model_name": "HTMLModel",
      "state": {
       "layout": "IPY_MODEL_f1d61338a1e04dfdb6ab09b39deecdfe",
       "style": "IPY_MODEL_589f8138c8834a27ae857198122cc7d7",
       "value": " 713k/713k [00:00&lt;00:00, 5.98MB/s]"
      }
     },
     "c91afc83c932487d9ae1c854abb872d5": {
      "model_module": "@jupyter-widgets/base",
      "model_module_version": "2.0.0",
      "model_name": "LayoutModel",
      "state": {}
     },
     "d28eb3abd35540599f2adaa80eadcf66": {
      "model_module": "@jupyter-widgets/controls",
      "model_module_version": "2.0.0",
      "model_name": "HTMLModel",
      "state": {
       "layout": "IPY_MODEL_602d2cfbf8214cf18f64e6a99bedd289",
       "style": "IPY_MODEL_85ab53a0fce4430f90089207d4e26e6a",
       "value": "Computing checksums: 100%"
      }
     },
     "d7d7a4a0908242219ea1b301995cd9c3": {
      "model_module": "@jupyter-widgets/controls",
      "model_module_version": "2.0.0",
      "model_name": "HTMLModel",
      "state": {
       "layout": "IPY_MODEL_e122ff80ce2b4590bdcd4e6d4f3f49b6",
       "style": "IPY_MODEL_6ee5e42caf494bf68930fe988fce5b71",
       "value": "Computing checksums: 100%"
      }
     },
     "d919e352b0854116a1cbc3747293f167": {
      "model_module": "@jupyter-widgets/controls",
      "model_module_version": "2.0.0",
      "model_name": "HBoxModel",
      "state": {
       "children": [
        "IPY_MODEL_26d1bc2f6bbd4195b6ce0463b041686f",
        "IPY_MODEL_398a887d847b464bba2d62ed3591a784",
        "IPY_MODEL_1da53389c65c43fc845d70c58adbd188"
       ],
       "layout": "IPY_MODEL_e62f6fe3d92b468699b32beb3dbe03f0"
      }
     },
     "db4875c725834c67bdfa6c1a2a95c839": {
      "model_module": "@jupyter-widgets/controls",
      "model_module_version": "2.0.0",
      "model_name": "HTMLModel",
      "state": {
       "layout": "IPY_MODEL_700a2d10bb4a4c538d225528b847e661",
       "style": "IPY_MODEL_eced82f691de4fb0b046889de8aa3d99",
       "value": " 2183/2183 [00:00&lt;00:00, 128277.14 examples/s]"
      }
     },
     "dc43214b22704baebb8c27a1fdb3b7ef": {
      "model_module": "@jupyter-widgets/controls",
      "model_module_version": "2.0.0",
      "model_name": "HTMLModel",
      "state": {
       "layout": "IPY_MODEL_ffa60c83065c4daaba065edf1f1d0d46",
       "style": "IPY_MODEL_eacbf39f7a4647e3a1d3b4c27dc4630b",
       "value": " 299/299 [00:00&lt;00:00, 42.7kB/s]"
      }
     },
     "dd80c40adc7e4394bc885dd8b7f30e7a": {
      "model_module": "@jupyter-widgets/controls",
      "model_module_version": "2.0.0",
      "model_name": "FloatProgressModel",
      "state": {
       "bar_style": "success",
       "layout": "IPY_MODEL_a1d029743fb44edfa470127ffcd9e651",
       "max": 1,
       "style": "IPY_MODEL_ab782bfbbd1049ddaecf8f99783bf64d",
       "value": 1
      }
     },
     "e122ff80ce2b4590bdcd4e6d4f3f49b6": {
      "model_module": "@jupyter-widgets/base",
      "model_module_version": "2.0.0",
      "model_name": "LayoutModel",
      "state": {}
     },
     "e19034f12eec4354b82dbe46dc126ddd": {
      "model_module": "@jupyter-widgets/controls",
      "model_module_version": "2.0.0",
      "model_name": "HBoxModel",
      "state": {
       "children": [
        "IPY_MODEL_40bbd7b5000b4bfa9f2d980807ee94f9",
        "IPY_MODEL_82d16aa8d424418faae7252f28c38b58",
        "IPY_MODEL_ed1e851f9e094e7caf744f22bc217cdd"
       ],
       "layout": "IPY_MODEL_c91afc83c932487d9ae1c854abb872d5"
      }
     },
     "e2e22c14152a40cbbd11cb5361d57067": {
      "model_module": "@jupyter-widgets/controls",
      "model_module_version": "2.0.0",
      "model_name": "HTMLStyleModel",
      "state": {
       "description_width": "",
       "font_size": null,
       "text_color": null
      }
     },
     "e3ce6a9011a941d2a75dd8f1d4ac9537": {
      "model_module": "@jupyter-widgets/controls",
      "model_module_version": "2.0.0",
      "model_name": "HBoxModel",
      "state": {
       "children": [
        "IPY_MODEL_6613a6d5ebe24b23aaa83b3ec57bc214",
        "IPY_MODEL_9743a09d8af14e3c947b51fe3dfca3e8",
        "IPY_MODEL_f4c1375e08dc4afaa407187bafee7fe2"
       ],
       "layout": "IPY_MODEL_0555598ff42d4fad9d4a3ebf3bd71c1a"
      }
     },
     "e62f6fe3d92b468699b32beb3dbe03f0": {
      "model_module": "@jupyter-widgets/base",
      "model_module_version": "2.0.0",
      "model_name": "LayoutModel",
      "state": {}
     },
     "ea0ff8816f48483a8bf9ad2d61a9409e": {
      "model_module": "@jupyter-widgets/base",
      "model_module_version": "2.0.0",
      "model_name": "LayoutModel",
      "state": {}
     },
     "eacbf39f7a4647e3a1d3b4c27dc4630b": {
      "model_module": "@jupyter-widgets/controls",
      "model_module_version": "2.0.0",
      "model_name": "HTMLStyleModel",
      "state": {
       "description_width": "",
       "font_size": null,
       "text_color": null
      }
     },
     "eb111038301f44988056836b4c3ea88c": {
      "model_module": "@jupyter-widgets/controls",
      "model_module_version": "2.0.0",
      "model_name": "ProgressStyleModel",
      "state": {
       "description_width": ""
      }
     },
     "eced82f691de4fb0b046889de8aa3d99": {
      "model_module": "@jupyter-widgets/controls",
      "model_module_version": "2.0.0",
      "model_name": "HTMLStyleModel",
      "state": {
       "description_width": "",
       "font_size": null,
       "text_color": null
      }
     },
     "ed1e851f9e094e7caf744f22bc217cdd": {
      "model_module": "@jupyter-widgets/controls",
      "model_module_version": "2.0.0",
      "model_name": "HTMLModel",
      "state": {
       "layout": "IPY_MODEL_c58df7fb00d446cebd7df268ed5170f8",
       "style": "IPY_MODEL_05b9bd05b19c4a62a8191a69dbd2fe4f",
       "value": " 1841/1841 [00:00&lt;00:00, 103884.21 examples/s]"
      }
     },
     "ef1e3627d0884052a623bde7f08ff7dd": {
      "model_module": "@jupyter-widgets/base",
      "model_module_version": "2.0.0",
      "model_name": "LayoutModel",
      "state": {}
     },
     "f1d61338a1e04dfdb6ab09b39deecdfe": {
      "model_module": "@jupyter-widgets/base",
      "model_module_version": "2.0.0",
      "model_name": "LayoutModel",
      "state": {}
     },
     "f4c1375e08dc4afaa407187bafee7fe2": {
      "model_module": "@jupyter-widgets/controls",
      "model_module_version": "2.0.0",
      "model_name": "HTMLModel",
      "state": {
       "layout": "IPY_MODEL_bbe5a8a5e30b45e6a4e1ab981c0a7702",
       "style": "IPY_MODEL_7ff163226fdb4849b5359faad79c6766",
       "value": " 303M/303M [01:31&lt;00:00, 3.33MB/s]"
      }
     },
     "f86ba493ec2444659cf1582523b33734": {
      "model_module": "@jupyter-widgets/base",
      "model_module_version": "2.0.0",
      "model_name": "LayoutModel",
      "state": {}
     },
     "f8d3a3f85116455a98d5c654355f1414": {
      "model_module": "@jupyter-widgets/base",
      "model_module_version": "2.0.0",
      "model_name": "LayoutModel",
      "state": {}
     },
     "f98d5fc7c2894717b7081c7f33784a88": {
      "model_module": "@jupyter-widgets/controls",
      "model_module_version": "2.0.0",
      "model_name": "HTMLStyleModel",
      "state": {
       "description_width": "",
       "font_size": null,
       "text_color": null
      }
     },
     "fbb1300b70f74f3384b58a58d010147e": {
      "model_module": "@jupyter-widgets/controls",
      "model_module_version": "2.0.0",
      "model_name": "HTMLStyleModel",
      "state": {
       "description_width": "",
       "font_size": null,
       "text_color": null
      }
     },
     "fbf4eee9ebf5488980d5c6007647be0e": {
      "model_module": "@jupyter-widgets/base",
      "model_module_version": "2.0.0",
      "model_name": "LayoutModel",
      "state": {}
     },
     "ffa60c83065c4daaba065edf1f1d0d46": {
      "model_module": "@jupyter-widgets/base",
      "model_module_version": "2.0.0",
      "model_name": "LayoutModel",
      "state": {}
     }
    },
    "version_major": 2,
    "version_minor": 0
   }
  }
 },
 "nbformat": 4,
 "nbformat_minor": 5
}
